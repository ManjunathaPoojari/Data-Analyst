{
 "cells": [
  {
   "cell_type": "code",
   "execution_count": 1,
   "id": "a978db06-4e75-49ca-841f-74aa878fc0a9",
   "metadata": {},
   "outputs": [],
   "source": [
    "import json"
   ]
  },
  {
   "cell_type": "code",
   "execution_count": 5,
   "id": "c802cdb5-7f10-40ab-ad02-918915832d62",
   "metadata": {},
   "outputs": [
    {
     "name": "stdout",
     "output_type": "stream",
     "text": [
      "manju\n",
      "34\n"
     ]
    }
   ],
   "source": [
    "x='{\"name\":\"manju\",\"age\":34}'\n",
    "z=json.loads(x)\n",
    "print(z[\"name\"])\n",
    "print(z[\"age\"])"
   ]
  },
  {
   "cell_type": "code",
   "execution_count": 9,
   "id": "447e5eb7-719c-491f-8fae-199e6860c56c",
   "metadata": {},
   "outputs": [
    {
     "name": "stdout",
     "output_type": "stream",
     "text": [
      "{\"name\": \"Manju\", \"age\": 35}\n"
     ]
    }
   ],
   "source": [
    "X={\n",
    "    \"name\":\"Manju\",\n",
    "    \"age\":35\n",
    "}\n",
    "y=json.dumps(X)\n",
    "print(y)"
   ]
  },
  {
   "cell_type": "code",
   "execution_count": 11,
   "id": "efacf15f-98c8-4325-826e-4c13d3f45179",
   "metadata": {},
   "outputs": [],
   "source": [
    "import re"
   ]
  },
  {
   "cell_type": "code",
   "execution_count": 29,
   "id": "278de856-1eac-4946-80c6-da866441a449",
   "metadata": {},
   "outputs": [
    {
     "name": "stdout",
     "output_type": "stream",
     "text": [
      "yes\n"
     ]
    }
   ],
   "source": [
    "x=\"there is rain in spain\"\n",
    "y=re.search(\"^the.*spain$\",x)\n",
    "if y:\n",
    "    print(\"yes\")\n",
    "else:\n",
    "    print(\"No\")"
   ]
  },
  {
   "cell_type": "code",
   "execution_count": 31,
   "id": "32352025-eb60-461b-8ac2-fbd4b5f5d1ca",
   "metadata": {},
   "outputs": [
    {
     "name": "stdout",
     "output_type": "stream",
     "text": [
      "yes\n"
     ]
    }
   ],
   "source": [
    "x=\"the is rain in spain\"\n",
    "y=re.search(\"^the.*spain$\",x)\n",
    "if y:\n",
    "    print(\"yes\")\n",
    "else:\n",
    "    print(\"No\")"
   ]
  },
  {
   "cell_type": "code",
   "execution_count": 33,
   "id": "41e57b33-9dc3-4024-9f9d-367f2e1d6000",
   "metadata": {},
   "outputs": [
    {
     "name": "stdout",
     "output_type": "stream",
     "text": [
      "yes\n"
     ]
    }
   ],
   "source": [
    "x=\"there is rain in spain\"\n",
    "y=re.search(\"^the.*\",x)\n",
    "if y:\n",
    "    print(\"yes\")\n",
    "else:\n",
    "    print(\"No\")"
   ]
  },
  {
   "cell_type": "code",
   "execution_count": 35,
   "id": "372262ed-088b-438f-8730-25071a0c339e",
   "metadata": {},
   "outputs": [
    {
     "name": "stdout",
     "output_type": "stream",
     "text": [
      "yes\n"
     ]
    }
   ],
   "source": [
    "x=\"there is rain in spain\"\n",
    "y=re.search(\"spain$\",x)\n",
    "if y:\n",
    "    print(\"yes\")\n",
    "else:\n",
    "    print(\"No\")"
   ]
  },
  {
   "cell_type": "code",
   "execution_count": 37,
   "id": "38beffd8-3238-441e-ab31-7d6e5fb8829c",
   "metadata": {},
   "outputs": [
    {
     "name": "stdout",
     "output_type": "stream",
     "text": [
      "No\n"
     ]
    }
   ],
   "source": [
    "x=\"there is rain in spain\"\n",
    "y=re.search(\"^the.* in$\",x)\n",
    "if y:\n",
    "    print(\"yes\")\n",
    "else:\n",
    "    print(\"No\")"
   ]
  },
  {
   "cell_type": "code",
   "execution_count": 39,
   "id": "cfc10567-52c4-47f6-9a02-24b2417adad7",
   "metadata": {},
   "outputs": [
    {
     "name": "stdout",
     "output_type": "stream",
     "text": [
      "yes\n"
     ]
    }
   ],
   "source": [
    "x=\"there is rain in spain\"\n",
    "y=re.search(\"^the.*pain$\",x)\n",
    "if y:\n",
    "    print(\"yes\")\n",
    "else:\n",
    "    print(\"No\")"
   ]
  },
  {
   "cell_type": "code",
   "execution_count": 41,
   "id": "5a38400a-5c94-4950-95ff-bf0cb3488f1c",
   "metadata": {},
   "outputs": [
    {
     "name": "stdout",
     "output_type": "stream",
     "text": [
      "['ai', 'ai']\n"
     ]
    }
   ],
   "source": [
    "y= re.findall(\"ai\",x)\n",
    "print(y)"
   ]
  },
  {
   "cell_type": "code",
   "execution_count": 49,
   "id": "b86b9fc5-e3f2-4ef0-aace-5c5d4730ef32",
   "metadata": {},
   "outputs": [
    {
     "name": "stdout",
     "output_type": "stream",
     "text": [
      "['there', 'is', 'rain', 'in', 'spain']\n"
     ]
    },
    {
     "name": "stderr",
     "output_type": "stream",
     "text": [
      "<>:1: SyntaxWarning: invalid escape sequence '\\s'\n",
      "<>:2: SyntaxWarning: invalid escape sequence '\\s'\n",
      "<>:1: SyntaxWarning: invalid escape sequence '\\s'\n",
      "<>:2: SyntaxWarning: invalid escape sequence '\\s'\n",
      "C:\\Users\\mjcre\\AppData\\Local\\Temp\\ipykernel_20852\\2781996385.py:1: SyntaxWarning: invalid escape sequence '\\s'\n",
      "  z=re.search(\"\\s\",x)\n",
      "C:\\Users\\mjcre\\AppData\\Local\\Temp\\ipykernel_20852\\2781996385.py:2: SyntaxWarning: invalid escape sequence '\\s'\n",
      "  z=re.split(\"\\s\",x)\n"
     ]
    }
   ],
   "source": [
    "z=re.search(\"\\s\",x)\n",
    "z=re.split(\"\\s\",x)\n",
    "print(z)"
   ]
  },
  {
   "cell_type": "code",
   "execution_count": 51,
   "id": "b88de104-cde4-4582-bbb5-ec033cc467a1",
   "metadata": {},
   "outputs": [
    {
     "name": "stdout",
     "output_type": "stream",
     "text": [
      "there$is$rain$in$spain\n"
     ]
    },
    {
     "name": "stderr",
     "output_type": "stream",
     "text": [
      "<>:1: SyntaxWarning: invalid escape sequence '\\s'\n",
      "<>:1: SyntaxWarning: invalid escape sequence '\\s'\n",
      "C:\\Users\\mjcre\\AppData\\Local\\Temp\\ipykernel_20852\\2971654477.py:1: SyntaxWarning: invalid escape sequence '\\s'\n",
      "  z=re.sub(\"\\s\",\"$\",x)\n"
     ]
    }
   ],
   "source": [
    "z=re.sub(\"\\s\",\"$\",x)\n",
    "print(z)"
   ]
  },
  {
   "cell_type": "code",
   "execution_count": 53,
   "id": "2b4e6b26-2a23-4bc7-b54c-8fc684f1f0e8",
   "metadata": {},
   "outputs": [
    {
     "name": "stdout",
     "output_type": "stream",
     "text": [
      "match found 123\n"
     ]
    }
   ],
   "source": [
    "pattern=r\"\\d+\"\n",
    "text=\"there are 123 apples\"\n",
    "match=re.search(pattern,text)\n",
    "if match:\n",
    "    print(\"match found\",match.group())"
   ]
  },
  {
   "cell_type": "code",
   "execution_count": 61,
   "id": "ec1258e4-ba49-40c9-999e-6a7cab81cd18",
   "metadata": {},
   "outputs": [
    {
     "name": "stdout",
     "output_type": "stream",
     "text": [
      "match found ['123', '456']\n"
     ]
    }
   ],
   "source": [
    "pattern=r\"\\d+\"\n",
    "text=\"there are 123 apples 456\"\n",
    "match=re.findall(pattern,text)\n",
    "print(\"match found\",match)"
   ]
  },
  {
   "cell_type": "code",
   "execution_count": 73,
   "id": "9f1a5971-ff29-4e1f-9078-047845948fe4",
   "metadata": {},
   "outputs": [
    {
     "name": "stdout",
     "output_type": "stream",
     "text": [
      "Year 2025\n",
      "Month-Day 03\n",
      "2025-03-26\n"
     ]
    }
   ],
   "source": [
    "pattern=r'(\\d+)-(\\d+)-(\\d+)'\n",
    "text=\"the event is on 2025-03-26\"\n",
    "match=re.search(pattern,text)\n",
    "if match:\n",
    "    print(\"Year\",match.group(1))\n",
    "    print(\"Month-Day\",match.group(2))\n",
    "print(match.group())\n"
   ]
  },
  {
   "cell_type": "code",
   "execution_count": 83,
   "id": "a517195a-b9cc-4066-a4f5-980f13e107c4",
   "metadata": {},
   "outputs": [
    {
     "name": "stdout",
     "output_type": "stream",
     "text": [
      "email found example@example.co\n"
     ]
    }
   ],
   "source": [
    "import re\n",
    "email_pattern=r\"[a-zA-Z0-9._%-]+@[a-zA-A0-9.-]+\\.[a-zA-Z]{2}\"\n",
    "text=\"please contact us at example@example.com\"\n",
    "match=re.search(email_pattern,text)\n",
    "if match:\n",
    "    print(\"email found\",match.group())\n",
    "else:\n",
    "    print(\"Not found\")"
   ]
  },
  {
   "cell_type": "markdown",
   "id": "e84cb302-2728-4524-8de9-6c84dd73cb3b",
   "metadata": {},
   "source": [
    "1.validate password\n",
    "2.validate a url \"http/https://localhost:8080/"
   ]
  },
  {
   "cell_type": "code",
   "execution_count": null,
   "id": "de675410-a7ee-4e80-9b2c-7479b9ebaac6",
   "metadata": {},
   "outputs": [],
   "source": []
  }
 ],
 "metadata": {
  "kernelspec": {
   "display_name": "Python [conda env:base] *",
   "language": "python",
   "name": "conda-base-py"
  },
  "language_info": {
   "codemirror_mode": {
    "name": "ipython",
    "version": 3
   },
   "file_extension": ".py",
   "mimetype": "text/x-python",
   "name": "python",
   "nbconvert_exporter": "python",
   "pygments_lexer": "ipython3",
   "version": "3.12.7"
  }
 },
 "nbformat": 4,
 "nbformat_minor": 5
}
