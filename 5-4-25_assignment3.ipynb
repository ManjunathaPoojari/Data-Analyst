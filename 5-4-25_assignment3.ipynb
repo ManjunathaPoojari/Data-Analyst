{
 "cells": [
  {
   "cell_type": "markdown",
   "id": "e42dd552-0aef-4233-b496-600cac842edd",
   "metadata": {},
   "source": [
    "1.password pattern match"
   ]
  },
  {
   "cell_type": "code",
   "execution_count": 3,
   "id": "d6bc4783-c4ad-4392-b2f5-2277abe92464",
   "metadata": {},
   "outputs": [
    {
     "name": "stdout",
     "output_type": "stream",
     "text": [
      "Password is valid.\n",
      "Invalid password.\n"
     ]
    }
   ],
   "source": [
    "import re\n",
    "def validate_password(password):\n",
    "    pattern = r'^(?=.*[a-z])(?=.*[A-Z])(?=.*\\d)(?=.*[!@#$%^&*(),.?\":{}|<>]).{8,}$'\n",
    "    result = re.match(pattern, password)\n",
    "    if result:\n",
    "        print(\"Password is valid.\")\n",
    "    else:\n",
    "        print(\"Invalid password.\")\n",
    "\n",
    "validate_password(\"StrongPass1!\")\n",
    "validate_password(\"weakpass1\")\n"
   ]
  },
  {
   "cell_type": "markdown",
   "id": "5e2c3ed8-de89-48b7-9061-29900f74a406",
   "metadata": {},
   "source": [
    "2.URL pattern Matching"
   ]
  },
  {
   "cell_type": "code",
   "execution_count": 6,
   "id": "eeec1864-d51f-4fe8-acd3-0c99ef1df059",
   "metadata": {},
   "outputs": [
    {
     "name": "stdout",
     "output_type": "stream",
     "text": [
      "URL is valid.\n",
      "Invalid URL.\n"
     ]
    }
   ],
   "source": [
    "import re\n",
    "\n",
    "def validate_url(url):\n",
    "    pattern = r'^https?://[a-zA-Z0-9.-]+\\.[a-zA-Z]{2,}(/.*)?$'\n",
    "    result = re.match(pattern, url)\n",
    "    if result:\n",
    "        print(\"URL is valid.\")\n",
    "    else:\n",
    "        print(\"Invalid URL.\")\n",
    "\n",
    "validate_url(\"http://www.google.com/\")\n",
    "validate_url(\"ftp://example.com\")\n"
   ]
  },
  {
   "cell_type": "markdown",
   "id": "1f192856-f2a8-4014-b2ae-f0105e61f57c",
   "metadata": {},
   "source": [
    "3.Exception Handling"
   ]
  },
  {
   "cell_type": "code",
   "execution_count": null,
   "id": "ef1cc9f2-367c-4ca3-8591-ee3672573408",
   "metadata": {},
   "outputs": [],
   "source": [
    "def divide_numbers():\n",
    "    try:\n",
    "        a = int(input(\"Enter numerator: \"))\n",
    "        b = int(input(\"Enter denominator: \"))\n",
    "        result = a / b\n",
    "        print(f\"Result: {result}\")\n",
    "    except ValueError:\n",
    "        print(\"Input Error: Please enter valid integers.\")\n",
    "    except ZeroDivisionError:\n",
    "        print(\"Math Error: Cannot divide by zero.\")\n",
    "    except Exception as e:\n",
    "        print(f\"Unexpected Error: {e}\")\n",
    "\n",
    "divide_numbers()\n"
   ]
  }
 ],
 "metadata": {
  "kernelspec": {
   "display_name": "Python [conda env:base] *",
   "language": "python",
   "name": "conda-base-py"
  },
  "language_info": {
   "codemirror_mode": {
    "name": "ipython",
    "version": 3
   },
   "file_extension": ".py",
   "mimetype": "text/x-python",
   "name": "python",
   "nbconvert_exporter": "python",
   "pygments_lexer": "ipython3",
   "version": "3.12.7"
  }
 },
 "nbformat": 4,
 "nbformat_minor": 5
}
