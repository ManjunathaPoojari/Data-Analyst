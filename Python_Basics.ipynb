{
 "cells": [
  {
   "cell_type": "code",
   "execution_count": 1,
   "id": "7e799d19-67f7-431b-972a-354b700e78ac",
   "metadata": {},
   "outputs": [
    {
     "name": "stdout",
     "output_type": "stream",
     "text": [
      "Hello World\n"
     ]
    }
   ],
   "source": [
    "print(\"Hello World\")"
   ]
  },
  {
   "cell_type": "markdown",
   "id": "a405110e-6ecb-4079-9023-5384b55a02fd",
   "metadata": {},
   "source": [
    "Data Types"
   ]
  },
  {
   "cell_type": "markdown",
   "id": "8b8b2c65-cd95-4621-a0e2-d3e893a10c35",
   "metadata": {},
   "source": [
    "Numeric – int, float, complex\n",
    "Sequence Type – string, list, tuple\n",
    "Mapping Type – dict\n",
    "Boolean – bool\n",
    "Set Type – set, frozenset\n",
    "Binary Types – bytes, bytearray, memoryview"
   ]
  },
  {
   "cell_type": "code",
   "execution_count": 13,
   "id": "98e657b4-fcb8-4932-ae4a-79c013a47699",
   "metadata": {},
   "outputs": [
    {
     "name": "stdout",
     "output_type": "stream",
     "text": [
      "50\n",
      "<class 'int'>\n",
      "60.5\n",
      "<class 'float'>\n",
      "(2+4j)\n",
      "<class 'complex'>\n"
     ]
    }
   ],
   "source": [
    "#Numeric\n",
    "\n",
    "#int\n",
    "x=50\n",
    "print(x)\n",
    "print(type(x))\n",
    "\n",
    "#float\n",
    "y=60.5\n",
    "print(y)\n",
    "print(type(y))\n",
    "\n",
    "#complex\n",
    "z=2+4j\n",
    "print(z)\n",
    "print(type(z))"
   ]
  },
  {
   "cell_type": "code",
   "execution_count": 35,
   "id": "2bb75768-ebe7-4d7f-b69f-21e2dd0f10d2",
   "metadata": {},
   "outputs": [
    {
     "name": "stdout",
     "output_type": "stream",
     "text": [
      "String\n",
      "Manjunatha Poojari\n",
      "<class 'str'>\n",
      "M\n",
      "\n",
      "List\n",
      "[1, 2, 3]\n",
      "[1, 2, 3, 'hello', 'b']\n",
      "1 b\n",
      "['b', 'hello', 3, 2, 1]\n",
      "<class 'list'>\n",
      "\n",
      " Tuple \n",
      "Tuple with the use of String:  ('Geeks', 'For')\n",
      "Geeks\n",
      "<class 'tuple'>\n"
     ]
    }
   ],
   "source": [
    "#Sequence \n",
    "\n",
    "#String\n",
    "print(\"String\")\n",
    "s=\"Manjunatha Poojari\"\n",
    "print(s)\n",
    "print(type(s))\n",
    "print(s[0])\n",
    "\n",
    "#list\n",
    "print(\"\\nList\")\n",
    "a=[]\n",
    "a=[1,2,3]\n",
    "print(a)\n",
    "b=[1,2,3,\"hello\",'b']\n",
    "print(b)\n",
    "print(b[0],b[-1])\n",
    "print(b[::-1])\n",
    "print(type(b))\n",
    "\n",
    "\n",
    "#tuple\n",
    "print(\"\\n Tuple\",end=\" \")\n",
    "tup1 = ()\n",
    "tup2 = ('Geeks', 'For')\n",
    "print(\"\\nTuple with the use of String: \", tup2)\n",
    "print(tup2[0])\n",
    "print(type(tup1))\n",
    "\n"
   ]
  },
  {
   "cell_type": "code",
   "execution_count": 43,
   "id": "267cf615-d456-4a5f-8aa2-092f85e10a33",
   "metadata": {},
   "outputs": [
    {
     "name": "stdout",
     "output_type": "stream",
     "text": [
      "Boolean\n",
      "True\n",
      "False\n",
      "<class 'bool'>\n"
     ]
    }
   ],
   "source": [
    "#Boolean\n",
    "print(\"Boolean\")\n",
    "a=True\n",
    "print(a)\n",
    "b=False\n",
    "print(b)\n",
    "print(type(True))"
   ]
  },
  {
   "cell_type": "code",
   "execution_count": 98,
   "id": "21b1753e-520a-4d33-b80d-2f7cdc83131b",
   "metadata": {},
   "outputs": [
    {
     "name": "stdout",
     "output_type": "stream",
     "text": [
      "Set\n",
      "Set with the use of String:  {'o', 'r', 'k', 'G', 'F', 'e', 's'}\n",
      "Geeks For \n",
      "Set with the use of List:  {'Geeks', 'For'}\n",
      "{1, 2, 3, 4, 5}\n",
      "frozenset({1, 2, 3})\n"
     ]
    }
   ],
   "source": [
    "#Set\n",
    "print(\"Set\")\n",
    "s1 = set()\n",
    "s1 = set(\"GeeksForGeeks\")\n",
    "print(\"Set with the use of String: \", s1)\n",
    "s2 = set([\"Geeks\", \"For\", \"Geeks\"])\n",
    "for i in s2:\n",
    "    print(i, end=\" \")\n",
    "print(\"\\nSet with the use of List: \", s2)\n",
    "set={1,2,3,3,4,5,4}\n",
    "s=frozenset({1,2,3})\n",
    "print(set)\n",
    "print(s)"
   ]
  },
  {
   "cell_type": "code",
   "execution_count": 55,
   "id": "41fa31c1-e5b8-4437-88c6-2b3bda90cf57",
   "metadata": {},
   "outputs": [
    {
     "name": "stdout",
     "output_type": "stream",
     "text": [
      "{1: 'Geeks', 2: 'For', 3: 'Geeks'}\n",
      "{1: 'Geeks', 2: 'For', 3: 'Geeks'}\n"
     ]
    }
   ],
   "source": [
    "#Dictionery\n",
    "d = {}\n",
    "d = {1: 'Geeks', 2: 'For', 3: 'Geeks'}\n",
    "print(d)\n",
    "# creating dictionary using dict() constructor\n",
    "d1 = dict({1: 'Geeks', 2: 'For', 3: 'Geeks'})\n",
    "print(d1)"
   ]
  },
  {
   "cell_type": "code",
   "execution_count": 57,
   "id": "f23c1fbc-cf7e-4b0e-a337-65e254709c09",
   "metadata": {},
   "outputs": [
    {
     "name": "stdout",
     "output_type": "stream",
     "text": [
      "List Operations\n",
      "['apple', 'banana', 'orange']\n",
      "['apple', 'banana', 'orange', 'grape']\n",
      "['apple', 'banana', 'grape']\n"
     ]
    }
   ],
   "source": [
    "#List Operations\n",
    "print(\"List Operations\")\n",
    "fruits = [\"apple\", \"banana\", \"orange\"]\n",
    "print(fruits)\n",
    "fruits.append(\"grape\")\n",
    "print(fruits)\n",
    "fruits.remove(\"orange\")\n",
    "print(fruits)"
   ]
  },
  {
   "cell_type": "code",
   "execution_count": 63,
   "id": "55d8826e-68ce-46db-adb2-112d6e7f1386",
   "metadata": {},
   "outputs": [
    {
     "name": "stdout",
     "output_type": "stream",
     "text": [
      "Tuple operation\n",
      "(3, 5)\n",
      "X-coordinate: 3\n",
      "Y-coordinate: 5\n"
     ]
    }
   ],
   "source": [
    "#tuple operation\n",
    "print(\"Tuple operation\")\n",
    "coordinates = (3, 5)\n",
    "print(coordinates)\n",
    "print(\"X-coordinate:\", coordinates[0])\n",
    "print(\"Y-coordinate:\", coordinates[1])"
   ]
  },
  {
   "cell_type": "markdown",
   "id": "b60bbbe0-6876-4f35-8af6-011ab8d0a509",
   "metadata": {},
   "source": [
    "UserInput"
   ]
  },
  {
   "cell_type": "code",
   "execution_count": 66,
   "id": "404cda32-ca74-4afc-9a78-d5adc33be08b",
   "metadata": {},
   "outputs": [
    {
     "name": "stdin",
     "output_type": "stream",
     "text": [
      "enter the name Manju\n"
     ]
    },
    {
     "name": "stdout",
     "output_type": "stream",
     "text": [
      "my name is Manju\n"
     ]
    }
   ],
   "source": [
    "name=input(\"enter the name\")\n",
    "print(\"my name is\",name)"
   ]
  },
  {
   "cell_type": "code",
   "execution_count": 78,
   "id": "2728985b-5812-4c86-b255-e0c72e16fa31",
   "metadata": {},
   "outputs": [
    {
     "name": "stdin",
     "output_type": "stream",
     "text": [
      "enter your name Manju\n",
      "enter your age 21\n",
      "enter your address Chennai\n"
     ]
    },
    {
     "name": "stdout",
     "output_type": "stream",
     "text": [
      " \n",
      "Your Details\n",
      "-------------------\n",
      "your name is Manju\n",
      "your age is 21\n",
      "your address is Chennai\n"
     ]
    }
   ],
   "source": [
    "#eg1\n",
    "name=input(\"enter your name\")\n",
    "age=int(input(\"enter your age\"))\n",
    "address=input(\"enter your address\")\n",
    "print (\" \")\n",
    "print(\"Your Details\")\n",
    "print(\"-------------------\")\n",
    "print(\"your name is\",name)\n",
    "print(\"your age is\",age)\n",
    "print(\"your address is\",address)"
   ]
  },
  {
   "cell_type": "code",
   "execution_count": 96,
   "id": "b91c8782-a127-4371-97f7-e57f6bbd680d",
   "metadata": {},
   "outputs": [
    {
     "name": "stdout",
     "output_type": "stream",
     "text": [
      "                               String Functions\n",
      "-----------------------------------------------------------------------------\n",
      "Length of the String is: 22\n",
      "Upper case of the String is: MANJUNATHA POOJARI    \n",
      "Lower case of String is: manjunatha poojari    \n",
      "removing any leading and trailing whitespaces by strip: Manjunatha Poojari\n",
      "Replacing a character in the string:  Monjunotho Poojori    \n",
      "spliting the text with comma: ['Manjunatha', 'Poojari', '', '', '', '']\n",
      "joining the words:  \n",
      "finding first occurence of a value using find: 1\n",
      "checking a string is startwith m or not:  False\n",
      "checking the string is ends with a:  False\n"
     ]
    }
   ],
   "source": [
    "#String Functions\n",
    "def String_Functions(name):\n",
    "    print(\"                               String Functions\")\n",
    "    print(\"-----------------------------------------------------------------------------\")\n",
    "    print(\"Length of the String is:\",len(name))\n",
    "    print(\"Upper case of the String is:\",name.upper())\n",
    "    print(\"Lower case of String is:\",name.lower())\n",
    "    print(\"removing any leading and trailing whitespaces by strip:\",name.strip())\n",
    "    print(\"Replacing a character in the string: \",name.replace('a','o'))\n",
    "    print(\"spliting the text with comma:\",name.split(\" \"))\n",
    "    print(\"joining the words:\",name.join(\" \"))\n",
    "    print(\"finding first occurence of a value using find:\",name.find('a'))\n",
    "    print(\"checking a string is startwith m or not: \",name.startswith(' '))\n",
    "    print(\"checking the string is ends with a: \",name.endswith('a'))\n",
    "String_Functions(\"Manjunatha Poojari    \")"
   ]
  },
  {
   "cell_type": "code",
   "execution_count": 116,
   "id": "68021041-f6cb-410e-805b-2e39e2c23f94",
   "metadata": {},
   "outputs": [
    {
     "name": "stdout",
     "output_type": "stream",
     "text": [
      "39\n",
      "<class 'int'>\n",
      " \n",
      "List to tuple\n",
      "---------------\n",
      "(1, 2, 3)\n",
      " \n",
      "List to Dict\n",
      "---------------\n",
      "{'a': 1, 'b': 2}\n"
     ]
    }
   ],
   "source": [
    "#Casting\n",
    "a=19.5\n",
    "b=20\n",
    "c=int(a+b)\n",
    "print(c)\n",
    "print(type(c))\n",
    "print(\" \")\n",
    "\n",
    "#List to tuple\n",
    "print(\"List to tuple\")\n",
    "print(\"---------------\")\n",
    "list_value = [1, 2, 3]\n",
    "tuple_value = tuple(list_value)\n",
    "print(tuple_value)\n",
    "print(\" \")\n",
    "\n",
    "#List to Dict\n",
    "print(\"List to Dict\")\n",
    "print(\"---------------\")\n",
    "list_of_pairs = [('a', 1), ('b', 2)]\n",
    "dict_value = dict(list_of_pairs)\n",
    "print(dict_value)"
   ]
  },
  {
   "cell_type": "markdown",
   "id": "f6cc0a51-22fe-4645-ac7b-85a3611aa50e",
   "metadata": {},
   "source": [
    "List Methods"
   ]
  },
  {
   "cell_type": "code",
   "execution_count": 170,
   "id": "c7ccd7c5-eb95-427a-9a1d-877b98140245",
   "metadata": {},
   "outputs": [
    {
     "name": "stdout",
     "output_type": "stream",
     "text": [
      "Before Appending a value\n",
      " [1, 2, 3]\n",
      "After Appending a value\n",
      " [1, 2, 3, 4]\n",
      "----------------------------\n",
      "coping values into b by using copy()\n",
      " [1, 2, 3, 4]\n",
      "---------------------------------------\n",
      "Remove all elements from the list a by using clear()\n",
      "[]\n",
      "---------------------------------------\n",
      "Count occurrences of 2 in the list b by count()\n",
      "2\n",
      "---------------------------------------\n",
      "Extend list b by adding elements from list [3, 4] and the function is extend()\n",
      "[1, 2, 3, 4, 2, 3, 4]\n",
      "---------------------------------------\n",
      "Finding the index of 2 in the list b by index(value)\n",
      "1\n",
      "---------------------------------------\n",
      " Insert a value 2 in list b at index 1 by insert()\n",
      "[1, 2, 2, 3, 4, 2, 3, 4]\n",
      "---------------------------------------\n",
      "Remove and return the last element in the list b by pop() \n",
      "[1, 2, 2, 3, 4, 2, 3]\n",
      "---------------------------------------\n",
      "Remove the first occurrence of 2 in list b by remove(value)\n",
      "[1, 2, 3, 4, 2, 3]\n",
      "---------------------------------------\n",
      "Reverse the list order by reverse()\n",
      "[3, 2, 4, 3, 2, 1]\n",
      "---------------------------------------\n",
      "Sort the list in ascending order by sort()\n",
      "None\n",
      "---------------------------------------\n"
     ]
    }
   ],
   "source": [
    "#List Operations\n",
    "a = [1, 2, 3]\n",
    "print(\"Before Appending a value\\n\",a)\n",
    "a.append(4)\n",
    "print(\"After Appending a value\\n\",a)\n",
    "print(\"----------------------------\")\n",
    "b = a.copy()\n",
    "print(\"coping values into b by using copy()\\n\",b)\n",
    "print(\"---------------------------------------\")\n",
    "print(\"Remove all elements from the list a by using clear()\")\n",
    "a.clear()\n",
    "print(a)\n",
    "print(\"---------------------------------------\")\n",
    "b.append(2)\n",
    "print(\"Count occurrences of 2 in the list b by count()\")\n",
    "print(b.count(2))\n",
    "print(\"---------------------------------------\")\n",
    "print(\"Extend list b by adding elements from list [3, 4] and the function is extend()\")\n",
    "b.extend([3, 4])\n",
    "print(b)\n",
    "print(\"---------------------------------------\")\n",
    "print(\"Finding the index of 2 in the list b by index(value)\")\n",
    "print(b.index(2))\n",
    "print(\"---------------------------------------\")\n",
    "print(\" Insert a value 2 in list b at index 1 by insert()\")\n",
    "b.insert(1, 2)\n",
    "print(b)\n",
    "print(\"---------------------------------------\")\n",
    "print(\"Remove and return the last element in the list b by pop() \")\n",
    "b.pop()\n",
    "print(b)\n",
    "print(\"---------------------------------------\")\n",
    "print(\"Remove the first occurrence of 2 in list b by remove(value)\")\n",
    "b.remove(2)\n",
    "print(b)\n",
    "print(\"---------------------------------------\")\n",
    "print(\"Reverse the list order by reverse()\")\n",
    "b.reverse()\n",
    "print(b)\n",
    "print(\"---------------------------------------\")\n",
    "print(\"Sort the list in ascending order by sort()\")\n",
    "print(b.sort())\n",
    "print(\"---------------------------------------\")\n"
   ]
  },
  {
   "cell_type": "code",
   "execution_count": null,
   "id": "bddfd088-e3a9-4fc7-b080-95b9162f2697",
   "metadata": {},
   "outputs": [],
   "source": []
  },
  {
   "cell_type": "code",
   "execution_count": 199,
   "id": "fccbfdef-64dc-44b0-9cbf-828d4df2128e",
   "metadata": {},
   "outputs": [
    {
     "name": "stdout",
     "output_type": "stream",
     "text": [
      "Length: 3\n",
      "Max: 30\n",
      "Min: 10\n",
      "Sum: 60\n",
      "Sorted: [10, 20, 30]\n",
      "All: True\n",
      "Any: True\n",
      "Type: <class 'set'>\n",
      "---------------------------------------\n",
      "Original s1: {1, 2, 3, 4}\n",
      "Original s2: {3, 4, 5, 6}\n",
      "---------------------------------------\n",
      "After add(10): {1, 2, 3, 4, 10}\n",
      "---------------------------------------\n",
      "After discard(2): {1, 3, 4, 10}\n",
      "---------------------------------------\n",
      "After remove(1): {3, 4, 10}\n",
      "---------------------------------------\n",
      "After pop(): {4, 10} | Popped: 3\n",
      "---------------------------------------\n",
      "Copy of s1: {10, 4}\n",
      "---------------------------------------\n",
      "After update([20, 30]): {4, 10, 20, 30}\n",
      "---------------------------------------\n",
      "Union (s1 | s2): {3, 4, 5, 6, 10, 20, 30}\n",
      "---------------------------------------\n",
      "Intersection (s1 & s2): {4}\n",
      "---------------------------------------\n",
      "Difference (s1 - s2): {10, 20, 30}\n",
      "---------------------------------------\n",
      "Symmetric Difference (s1 ^ s2): {3, 5, 6, 10, 20, 30}\n",
      "---------------------------------------\n",
      "Is subset: True\n",
      "---------------------------------------\n",
      "Is superset: True\n",
      "---------------------------------------\n",
      "Is disjoint: True\n",
      "---------------------------------------\n",
      "After clear(): set()\n"
     ]
    }
   ],
   "source": [
    "my_set = {10, 20, 30}\n",
    "\n",
    "print(\"Length:\", len(my_set))         \n",
    "print(\"Max:\", max(my_set))            \n",
    "print(\"Min:\", min(my_set))            \n",
    "print(\"Sum:\", sum(my_set))            \n",
    "print(\"Sorted:\", sorted(my_set))      \n",
    "print(\"All:\", all(my_set))            \n",
    "print(\"Any:\", any(my_set))\n",
    "print(\"Type:\", type(my_set))   \n",
    "print(\"---------------------------------------\")\n",
    "# Initial sets\n",
    "s1 = {1, 2, 3, 4}\n",
    "s2 = {3, 4, 5, 6}\n",
    "print(\"Original s1:\", s1)\n",
    "print(\"Original s2:\", s2)\n",
    "print(\"---------------------------------------\")\n",
    "# Add\n",
    "s1.add(10)\n",
    "print(\"After add(10):\", s1)\n",
    "print(\"---------------------------------------\")\n",
    "# Discard\n",
    "s1.discard(2)\n",
    "print(\"After discard(2):\", s1)\n",
    "print(\"---------------------------------------\")\n",
    "# Remove\n",
    "s1.remove(1)\n",
    "print(\"After remove(1):\", s1)\n",
    "print(\"---------------------------------------\")\n",
    "# Pop\n",
    "popped = s1.pop()\n",
    "print(\"After pop():\", s1, \"| Popped:\", popped)\n",
    "print(\"---------------------------------------\")\n",
    "# Copy\n",
    "s_copy = s1.copy()\n",
    "print(\"Copy of s1:\", s_copy)\n",
    "print(\"---------------------------------------\")\n",
    "# Update\n",
    "s1.update([20, 30])\n",
    "print(\"After update([20, 30]):\", s1)\n",
    "print(\"---------------------------------------\")\n",
    "# Union\n",
    "print(\"Union (s1 | s2):\", s1.union(s2))\n",
    "print(\"---------------------------------------\")\n",
    "# Intersection\n",
    "print(\"Intersection (s1 & s2):\", s1.intersection(s2))\n",
    "print(\"---------------------------------------\")\n",
    "# Difference\n",
    "print(\"Difference (s1 - s2):\", s1.difference(s2))\n",
    "print(\"---------------------------------------\")\n",
    "# Symmetric Difference\n",
    "print(\"Symmetric Difference (s1 ^ s2):\", s1.symmetric_difference(s2))\n",
    "print(\"---------------------------------------\")\n",
    "# issubset\n",
    "print(\"Is subset:\", {3, 4}.issubset(s2))\n",
    "print(\"---------------------------------------\")\n",
    "# issuperset\n",
    "print(\"Is superset:\", s2.issuperset({3}))\n",
    "print(\"---------------------------------------\")\n",
    "# isdisjoint\n",
    "print(\"Is disjoint:\", s1.isdisjoint({100, 200}))\n",
    "print(\"---------------------------------------\")\n",
    "# Clear\n",
    "s1.clear()\n",
    "print(\"After clear():\", s1)\n"
   ]
  },
  {
   "cell_type": "code",
   "execution_count": null,
   "id": "b3e158bc-d2e2-4629-bd7e-6d5146571ca6",
   "metadata": {},
   "outputs": [],
   "source": []
  }
 ],
 "metadata": {
  "kernelspec": {
   "display_name": "Python [conda env:base] *",
   "language": "python",
   "name": "conda-base-py"
  },
  "language_info": {
   "codemirror_mode": {
    "name": "ipython",
    "version": 3
   },
   "file_extension": ".py",
   "mimetype": "text/x-python",
   "name": "python",
   "nbconvert_exporter": "python",
   "pygments_lexer": "ipython3",
   "version": "3.12.7"
  }
 },
 "nbformat": 4,
 "nbformat_minor": 5
}
