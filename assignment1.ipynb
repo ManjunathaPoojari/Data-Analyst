{
 "cells": [
  {
   "cell_type": "markdown",
   "id": "f178ef53-59ec-4403-89a4-279f19aba207",
   "metadata": {},
   "source": [
    "1.String Functions"
   ]
  },
  {
   "cell_type": "code",
   "execution_count": 3,
   "id": "ba1c748e-b475-4b53-89e0-a30bc7f31a3c",
   "metadata": {},
   "outputs": [
    {
     "name": "stdout",
     "output_type": "stream",
     "text": [
      "                               String Functions\n",
      "-----------------------------------------------------------------------------\n",
      "Length of the String is: 22\n",
      "Upper case of the String is: MANJUNATHA POOJARI    \n",
      "Lower case of String is: manjunatha poojari    \n",
      "removing any leading and trailing whitespaces by strip: Manjunatha Poojari\n",
      "Replacing a character in the string:  Monjunotho Poojori    \n",
      "spliting the text with comma: ['Manjunatha', 'Poojari', '', '', '', '']\n",
      "joining the words:  \n",
      "finding first occurence of a value using find: 1\n",
      "checking a string is startwith m or not:  False\n",
      "checking the string is ends with a:  False\n"
     ]
    }
   ],
   "source": [
    "#String Functions\n",
    "def String_Functions(name):\n",
    "    print(\"                               String Functions\")\n",
    "    print(\"-----------------------------------------------------------------------------\")\n",
    "    print(\"Length of the String is:\",len(name))\n",
    "    print(\"Upper case of the String is:\",name.upper())\n",
    "    print(\"Lower case of String is:\",name.lower())\n",
    "    print(\"removing any leading and trailing whitespaces by strip:\",name.strip())\n",
    "    print(\"Replacing a character in the string: \",name.replace('a','o'))\n",
    "    print(\"spliting the text with comma:\",name.split(\" \"))\n",
    "    print(\"joining the words:\",name.join(\" \"))\n",
    "    print(\"finding first occurence of a value using find:\",name.find('a'))\n",
    "    print(\"checking a string is startwith m or not: \",name.startswith(' '))\n",
    "    print(\"checking the string is ends with a: \",name.endswith('a'))\n",
    "String_Functions(\"Manjunatha Poojari    \")"
   ]
  },
  {
   "cell_type": "markdown",
   "id": "528d34ee-8166-4bd3-9bc3-98ffb21a66e1",
   "metadata": {},
   "source": [
    "2.List Functions"
   ]
  },
  {
   "cell_type": "code",
   "execution_count": 7,
   "id": "5a9b8532-f50f-40e8-8203-b334d3d243fc",
   "metadata": {},
   "outputs": [
    {
     "name": "stdout",
     "output_type": "stream",
     "text": [
      "Before Appending a value\n",
      " [1, 2, 3]\n",
      "After Appending a value\n",
      " [1, 2, 3, 4]\n",
      "----------------------------\n",
      "coping values into b by using copy()\n",
      " [1, 2, 3, 4]\n",
      "---------------------------------------\n",
      "Remove all elements from the list a by using clear()\n",
      "[]\n",
      "---------------------------------------\n",
      "Count occurrences of 2 in the list b by count()\n",
      "2\n",
      "---------------------------------------\n",
      "Extend list b by adding elements from list [3, 4] and the function is extend()\n",
      "[1, 2, 3, 4, 2, 3, 4]\n",
      "---------------------------------------\n",
      "Finding the index of 2 in the list b by index(value)\n",
      "1\n",
      "---------------------------------------\n",
      " Insert a value 2 in list b at index 1 by insert()\n",
      "[1, 2, 2, 3, 4, 2, 3, 4]\n",
      "---------------------------------------\n",
      "Remove and return the last element in the list b by pop() \n",
      "[1, 2, 2, 3, 4, 2, 3]\n",
      "---------------------------------------\n",
      "Remove the first occurrence of 2 in list b by remove(value)\n",
      "[1, 2, 3, 4, 2, 3]\n",
      "---------------------------------------\n",
      "Reverse the list order by reverse()\n",
      "[3, 2, 4, 3, 2, 1]\n",
      "---------------------------------------\n",
      "Sort the list in ascending order by sort()\n",
      "None\n",
      "---------------------------------------\n"
     ]
    }
   ],
   "source": [
    "#List Operations\n",
    "a = [1, 2, 3]\n",
    "print(\"Before Appending a value\\n\",a)\n",
    "a.append(4)\n",
    "print(\"After Appending a value\\n\",a)\n",
    "print(\"----------------------------\")\n",
    "b = a.copy()\n",
    "print(\"coping values into b by using copy()\\n\",b)\n",
    "print(\"---------------------------------------\")\n",
    "print(\"Remove all elements from the list a by using clear()\")\n",
    "a.clear()\n",
    "print(a)\n",
    "print(\"---------------------------------------\")\n",
    "b.append(2)\n",
    "print(\"Count occurrences of 2 in the list b by count()\")\n",
    "print(b.count(2))\n",
    "print(\"---------------------------------------\")\n",
    "print(\"Extend list b by adding elements from list [3, 4] and the function is extend()\")\n",
    "b.extend([3, 4])\n",
    "print(b)\n",
    "print(\"---------------------------------------\")\n",
    "print(\"Finding the index of 2 in the list b by index(value)\")\n",
    "print(b.index(2))\n",
    "print(\"---------------------------------------\")\n",
    "print(\" Insert a value 2 in list b at index 1 by insert()\")\n",
    "b.insert(1, 2)\n",
    "print(b)\n",
    "print(\"---------------------------------------\")\n",
    "print(\"Remove and return the last element in the list b by pop() \")\n",
    "b.pop()\n",
    "print(b)\n",
    "print(\"---------------------------------------\")\n",
    "print(\"Remove the first occurrence of 2 in list b by remove(value)\")\n",
    "b.remove(2)\n",
    "print(b)\n",
    "print(\"---------------------------------------\")\n",
    "print(\"Reverse the list order by reverse()\")\n",
    "b.reverse()\n",
    "print(b)\n",
    "print(\"---------------------------------------\")\n",
    "print(\"Sort the list in ascending order by sort()\")\n",
    "print(b.sort())\n",
    "print(\"---------------------------------------\")\n"
   ]
  },
  {
   "cell_type": "markdown",
   "id": "08d7da41-a1e4-4b7d-9218-f3009cf7fb5e",
   "metadata": {},
   "source": [
    "3.Tuple"
   ]
  },
  {
   "cell_type": "code",
   "execution_count": 71,
   "id": "b06320cc-46c9-404a-9096-403425b77a3f",
   "metadata": {},
   "outputs": [
    {
     "name": "stdout",
     "output_type": "stream",
     "text": [
      "6\n",
      "2\n",
      "2\n",
      "10\n",
      "50\n",
      "(10, 20, 30)\n"
     ]
    }
   ],
   "source": [
    "t = (10, 20, 30, 40, 50, 20)\n",
    "print(len(t))\n",
    "print(t.count(20))\n",
    "print(t.index(30))\n",
    "print(min(t))\n",
    "print(max(t))\n",
    "print(t[:3])"
   ]
  },
  {
   "cell_type": "markdown",
   "id": "ff293050-6b32-417f-a239-66c28181fd4d",
   "metadata": {},
   "source": [
    "4.Student Marks Grade"
   ]
  },
  {
   "cell_type": "code",
   "execution_count": 75,
   "id": "78012b32-d0c6-4bbe-959f-1b8f7167600c",
   "metadata": {},
   "outputs": [
    {
     "name": "stdin",
     "output_type": "stream",
     "text": [
      " 50\n"
     ]
    },
    {
     "name": "stdout",
     "output_type": "stream",
     "text": [
      "Fail\n"
     ]
    }
   ],
   "source": [
    "marks=int(input())\n",
    "if (marks>=90 and marks<100):\n",
    "    print(\"A\")\n",
    "elif (marks>=70 and marks<=90):\n",
    "    print(\"B\")\n",
    "elif (marks>=60 and marks<=70):\n",
    "    print(\"C\")\n",
    "else:\n",
    "    print(\"Fail\")"
   ]
  },
  {
   "cell_type": "markdown",
   "id": "9249d86c-10ee-44f1-9425-469cf9662af0",
   "metadata": {},
   "source": [
    "5.String is Palindrome or not"
   ]
  },
  {
   "cell_type": "code",
   "execution_count": 37,
   "id": "252c548d-d25d-44e3-8b72-e30f74643a86",
   "metadata": {},
   "outputs": [
    {
     "name": "stdout",
     "output_type": "stream",
     "text": [
      "Palindrome\n"
     ]
    }
   ],
   "source": [
    "s1=\"mam\"\n",
    "s2=s1[::-1]\n",
    "if(s1==s2):\n",
    "    print(\"Palindrome\")\n",
    "else:\n",
    "    print(\"Not Palindrome\")"
   ]
  },
  {
   "cell_type": "markdown",
   "id": "d080b826-c11e-4a78-bf30-83c703a94aef",
   "metadata": {},
   "source": [
    "6.Prime Number or not"
   ]
  },
  {
   "cell_type": "code",
   "execution_count": 41,
   "id": "c1401152-f23e-4f0b-ad6e-466263af9f87",
   "metadata": {},
   "outputs": [
    {
     "data": {
      "text/plain": [
       "False"
      ]
     },
     "execution_count": 41,
     "metadata": {},
     "output_type": "execute_result"
    }
   ],
   "source": [
    "def is_prime(n):\n",
    "    if n < 2:\n",
    "        return False\n",
    "    for i in range(2, int(n**0.5) + 1):\n",
    "        if n % i == 0:\n",
    "            return False\n",
    "    return True\n",
    "is_prime(9)"
   ]
  },
  {
   "cell_type": "markdown",
   "id": "c8e70d57-3798-4edd-ba17-dbf012f01397",
   "metadata": {},
   "source": [
    "7.Fibonacci Series"
   ]
  },
  {
   "cell_type": "code",
   "execution_count": 45,
   "id": "2dc074fc-e77c-4279-9f1d-0902709d684f",
   "metadata": {},
   "outputs": [
    {
     "name": "stdout",
     "output_type": "stream",
     "text": [
      "0 1 1 2 3 "
     ]
    }
   ],
   "source": [
    "def fibonacci(n):\n",
    "    a, b = 0, 1\n",
    "    for _ in range(n):\n",
    "        print(a, end=\" \")\n",
    "        a, b = b, a + b\n",
    "fibonacci(5)"
   ]
  },
  {
   "cell_type": "markdown",
   "id": "d8efa70a-98ef-4aef-a932-20f486240c9e",
   "metadata": {},
   "source": [
    "8.Even or Odd"
   ]
  },
  {
   "cell_type": "code",
   "execution_count": 50,
   "id": "dfc76f96-9578-4611-bcd0-a26f594a9cd7",
   "metadata": {},
   "outputs": [
    {
     "name": "stdout",
     "output_type": "stream",
     "text": [
      "Even\n"
     ]
    }
   ],
   "source": [
    "def even_or_odd(n):\n",
    "    print(\"Even\" if n % 2 == 0 else \"Odd\")\n",
    "even_or_odd(10)"
   ]
  },
  {
   "cell_type": "markdown",
   "id": "2a77d7bf-e710-4c5a-b867-bdb099c5b2a1",
   "metadata": {},
   "source": [
    "9) Prime number check from user input"
   ]
  },
  {
   "cell_type": "code",
   "execution_count": 69,
   "id": "267711e4-31fb-421a-85c0-bae0c3a05587",
   "metadata": {},
   "outputs": [
    {
     "name": "stdin",
     "output_type": "stream",
     "text": [
      "Enter a number:  9\n"
     ]
    },
    {
     "name": "stdout",
     "output_type": "stream",
     "text": [
      "Not Prime\n"
     ]
    }
   ],
   "source": [
    "def check_prime():\n",
    "    num = int(input(\"Enter a number: \"))\n",
    "    print(\"Prime\" if is_prime(num) else \"Not Prime\")\n",
    "check_prime()"
   ]
  },
  {
   "cell_type": "markdown",
   "id": "581d5fc1-36c4-4288-95be-1bead7875196",
   "metadata": {},
   "source": [
    "10.Replace Even number with @ between 1 to 100"
   ]
  },
  {
   "cell_type": "code",
   "execution_count": 52,
   "id": "6d7facd6-9377-4fd3-9003-a44d8390086d",
   "metadata": {},
   "outputs": [
    {
     "name": "stdout",
     "output_type": "stream",
     "text": [
      "[1, '@', 3, '@', 5, '@', 7, '@', 9, '@', 11, '@', 13, '@', 15, '@', 17, '@', 19, '@', 21, '@', 23, '@', 25, '@', 27, '@', 29, '@', 31, '@', 33, '@', 35, '@', 37, '@', 39, '@', 41, '@', 43, '@', 45, '@', 47, '@', 49, '@', 51, '@', 53, '@', 55, '@', 57, '@', 59, '@', 61, '@', 63, '@', 65, '@', 67, '@', 69, '@', 71, '@', 73, '@', 75, '@', 77, '@', 79, '@', 81, '@', 83, '@', 85, '@', 87, '@', 89, '@', 91, '@', 93, '@', 95, '@', 97, '@', 99, '@']\n"
     ]
    }
   ],
   "source": [
    "def replace_even():\n",
    "    print([\"@\" if i % 2 == 0 else i for i in range(1, 101)])\n",
    "replace_even()"
   ]
  },
  {
   "cell_type": "markdown",
   "id": "4529dfb3-70e9-496e-8d85-6ef41cf552bd",
   "metadata": {},
   "source": [
    "11.Square each element in a collection"
   ]
  },
  {
   "cell_type": "code",
   "execution_count": 63,
   "id": "3904c83e-202f-499a-bb43-ab28d4244c6a",
   "metadata": {},
   "outputs": [
    {
     "name": "stdout",
     "output_type": "stream",
     "text": [
      "55\n"
     ]
    }
   ],
   "source": [
    "def square_all(*number):\n",
    "    return sum(x**2 for x in number)\n",
    "print(square_all(1, 2, 3, 4, 5)) \n"
   ]
  },
  {
   "cell_type": "markdown",
   "id": "0b426001-df62-4af8-99c7-c2c1012a0b09",
   "metadata": {},
   "source": [
    "12.Retrieves the keys from dictionary and based on display the value"
   ]
  },
  {
   "cell_type": "code",
   "execution_count": 94,
   "id": "00825c74-4179-41e0-867e-8048b9df889e",
   "metadata": {},
   "outputs": [
    {
     "name": "stdout",
     "output_type": "stream",
     "text": [
      "dict_keys(['Alice', 'Bob', 'Charlie', 'David'])\n",
      "dict_values([85, 90, 78, 90])\n",
      "{'Alice': 85, 'Bob': 90, 'Charlie': 78, 'David': 90}\n"
     ]
    }
   ],
   "source": [
    "\n",
    "d = {\n",
    "    \"Alice\": 85,\n",
    "    \"Bob\": 90,\n",
    "    \"Charlie\": 78,\n",
    "    \"David\": 90\n",
    "}\n",
    "print(d.keys())\n",
    "print(d.values())\n",
    "print(d)\n"
   ]
  },
  {
   "cell_type": "markdown",
   "id": "fb69b636-223f-4cce-99ef-04a009db1127",
   "metadata": {},
   "source": [
    "13.Get User Details from user next unction is to display the value whatever we get from user\n"
   ]
  },
  {
   "cell_type": "code",
   "execution_count": 88,
   "id": "4b40a255-3048-4972-9ed5-23377eae6403",
   "metadata": {},
   "outputs": [
    {
     "name": "stdin",
     "output_type": "stream",
     "text": [
      " Manju\n",
      " 21\n",
      " Chennai\n"
     ]
    },
    {
     "name": "stdout",
     "output_type": "stream",
     "text": [
      "name : Manju\n",
      "age : 21\n",
      "city : Chennai\n"
     ]
    }
   ],
   "source": [
    "def info(**details):\n",
    "    for k,v in details.items():\n",
    "        print(k,\":\",v)\n",
    "\n",
    "info(name=input(),age=int(input()),city=input())"
   ]
  },
  {
   "cell_type": "code",
   "execution_count": null,
   "id": "739a6836-bbe7-4482-9b11-d9eb242a2380",
   "metadata": {},
   "outputs": [],
   "source": []
  }
 ],
 "metadata": {
  "kernelspec": {
   "display_name": "Python [conda env:base] *",
   "language": "python",
   "name": "conda-base-py"
  },
  "language_info": {
   "codemirror_mode": {
    "name": "ipython",
    "version": 3
   },
   "file_extension": ".py",
   "mimetype": "text/x-python",
   "name": "python",
   "nbconvert_exporter": "python",
   "pygments_lexer": "ipython3",
   "version": "3.12.7"
  }
 },
 "nbformat": 4,
 "nbformat_minor": 5
}
