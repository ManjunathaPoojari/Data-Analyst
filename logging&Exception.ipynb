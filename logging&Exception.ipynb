{
 "cells": [
  {
   "cell_type": "code",
   "execution_count": 9,
   "id": "3d4e9aa9-e00a-4c78-bff7-8e0d9f793ad6",
   "metadata": {},
   "outputs": [
    {
     "name": "stderr",
     "output_type": "stream",
     "text": [
      "DEBUG:root:Hello,Debug\n",
      "INFO:root:hello,Info\n",
      "WARNING:root:hello,Warning\n",
      "ERROR:root:hello,Error\n",
      "CRITICAL:root:Hello,Critical\n"
     ]
    }
   ],
   "source": [
    "import logging\n",
    "logging.basicConfig(level=logging.DEBUG)\n",
    "logging.debug(\"Hello,Debug\")\n",
    "logging.info(\"hello,Info\")\n",
    "logging.warning(\"hello,Warning\")\n",
    "logging.error(\"hello,Error\")\n",
    "logging.critical(\"Hello,Critical\")"
   ]
  },
  {
   "cell_type": "code",
   "execution_count": 11,
   "id": "58a8a40f-acdc-4b1c-b972-c7d8d1bfddfb",
   "metadata": {},
   "outputs": [
    {
     "name": "stderr",
     "output_type": "stream",
     "text": [
      "DEBUG:root:Hello,Debug\n"
     ]
    },
    {
     "name": "stdout",
     "output_type": "stream",
     "text": [
      "None\n"
     ]
    }
   ],
   "source": [
    "print(logging.debug(\"Hello,Debug\"))"
   ]
  },
  {
   "cell_type": "code",
   "execution_count": 16,
   "id": "89f16026-41e9-4912-a285-699100747f8e",
   "metadata": {},
   "outputs": [
    {
     "name": "stderr",
     "output_type": "stream",
     "text": [
      "DEBUG:root:Hello,Debug\n",
      "INFO:root:hello,Info\n",
      "WARNING:root:hello,Warning\n",
      "ERROR:root:hello,Error\n",
      "CRITICAL:root:Hello,Critical\n"
     ]
    }
   ],
   "source": [
    "logging.basicConfig(level=logging.DEBUG,\n",
    "                    filename='app.log',\n",
    "                    filemode='a',\n",
    "                    format='%(name)s - %(levelname)s')\n",
    "logging.basicConfig(level=logging.DEBUG)\n",
    "logging.debug(\"Hello,Debug\")\n",
    "logging.info(\"hello,Info\")\n",
    "logging.warning(\"hello,Warning\")\n",
    "logging.error(\"hello,Error\")\n",
    "logging.critical(\"Hello,Critical\")\n"
   ]
  },
  {
   "cell_type": "code",
   "execution_count": 18,
   "id": "2b5d388a-f74c-458b-acb6-44ef8a56beb5",
   "metadata": {},
   "outputs": [
    {
     "name": "stdout",
     "output_type": "stream",
     "text": [
      "Requirement already satisfied: pylint in c:\\users\\mjcre\\anaconda3\\lib\\site-packages (2.16.2)Note: you may need to restart the kernel to use updated packages.\n",
      "\n",
      "Requirement already satisfied: platformdirs>=2.2.0 in c:\\users\\mjcre\\anaconda3\\lib\\site-packages (from pylint) (3.10.0)\n",
      "Requirement already satisfied: astroid<=2.16.0-dev0,>=2.14.2 in c:\\users\\mjcre\\anaconda3\\lib\\site-packages (from pylint) (2.14.2)\n",
      "Requirement already satisfied: isort<6,>=4.2.5 in c:\\users\\mjcre\\anaconda3\\lib\\site-packages (from pylint) (5.13.2)\n",
      "Requirement already satisfied: mccabe<0.8,>=0.6 in c:\\users\\mjcre\\anaconda3\\lib\\site-packages (from pylint) (0.7.0)\n",
      "Requirement already satisfied: tomlkit>=0.10.1 in c:\\users\\mjcre\\anaconda3\\lib\\site-packages (from pylint) (0.11.1)\n",
      "Requirement already satisfied: dill>=0.3.6 in c:\\users\\mjcre\\anaconda3\\lib\\site-packages (from pylint) (0.3.8)\n",
      "Requirement already satisfied: colorama>=0.4.5 in c:\\users\\mjcre\\anaconda3\\lib\\site-packages (from pylint) (0.4.6)\n",
      "Requirement already satisfied: lazy-object-proxy>=1.4.0 in c:\\users\\mjcre\\anaconda3\\lib\\site-packages (from astroid<=2.16.0-dev0,>=2.14.2->pylint) (1.10.0)\n",
      "Requirement already satisfied: wrapt<2,>=1.14 in c:\\users\\mjcre\\anaconda3\\lib\\site-packages (from astroid<=2.16.0-dev0,>=2.14.2->pylint) (1.14.1)\n"
     ]
    }
   ],
   "source": [
    "pip install pylint"
   ]
  },
  {
   "cell_type": "code",
   "execution_count": 22,
   "id": "8b3b9d10-2181-4c48-ae25-a45bd3ba24a8",
   "metadata": {},
   "outputs": [
    {
     "ename": "NameError",
     "evalue": "name 'pylint' is not defined",
     "output_type": "error",
     "traceback": [
      "\u001b[1;31m---------------------------------------------------------------------------\u001b[0m",
      "\u001b[1;31mNameError\u001b[0m                                 Traceback (most recent call last)",
      "Cell \u001b[1;32mIn[22], line 1\u001b[0m\n\u001b[1;32m----> 1\u001b[0m pylint \u001b[38;5;241m-\u001b[39m\u001b[38;5;241m-\u001b[39mversion\n",
      "\u001b[1;31mNameError\u001b[0m: name 'pylint' is not defined"
     ]
    }
   ],
   "source": []
  },
  {
   "cell_type": "code",
   "execution_count": null,
   "id": "7b111837-fb3f-4e26-aeff-dcffe1850526",
   "metadata": {},
   "outputs": [],
   "source": []
  },
  {
   "cell_type": "code",
   "execution_count": 26,
   "id": "ea2f11ec-dfab-4157-81e7-cf14649e5cbf",
   "metadata": {},
   "outputs": [
    {
     "name": "stdout",
     "output_type": "stream",
     "text": [
      "Initiating Process\n",
      "5.0\n",
      "Completed successfully\n"
     ]
    }
   ],
   "source": [
    "print(\"Initiating Process\")\n",
    "try:\n",
    "    x=10/2\n",
    "except DivideByZero:\n",
    "    print(\"Divide by zero\")\n",
    "else:\n",
    "    print(x)\n",
    "finally:\n",
    "    print(\"Completed successfully\")"
   ]
  },
  {
   "cell_type": "code",
   "execution_count": 56,
   "id": "b8fd1308-3d9c-4f79-aa2a-d47e1144643f",
   "metadata": {},
   "outputs": [
    {
     "name": "stdout",
     "output_type": "stream",
     "text": [
      "Initiating Process\n"
     ]
    },
    {
     "name": "stdin",
     "output_type": "stream",
     "text": [
      "Enter a value 5.0\n"
     ]
    },
    {
     "ename": "ValueError",
     "evalue": "invalid literal for int() with base 10: '5.0'",
     "output_type": "error",
     "traceback": [
      "\u001b[1;31m---------------------------------------------------------------------------\u001b[0m",
      "\u001b[1;31mValueError\u001b[0m                                Traceback (most recent call last)",
      "Cell \u001b[1;32mIn[56], line 2\u001b[0m\n\u001b[0;32m      1\u001b[0m \u001b[38;5;28mprint\u001b[39m(\u001b[38;5;124m\"\u001b[39m\u001b[38;5;124mInitiating Process\u001b[39m\u001b[38;5;124m\"\u001b[39m)\n\u001b[1;32m----> 2\u001b[0m v\u001b[38;5;241m=\u001b[39m\u001b[38;5;28mint\u001b[39m(\u001b[38;5;28minput\u001b[39m(\u001b[38;5;124m\"\u001b[39m\u001b[38;5;124mEnter a value\u001b[39m\u001b[38;5;124m\"\u001b[39m))\n\u001b[0;32m      3\u001b[0m \u001b[38;5;28;01mtry\u001b[39;00m:\n\u001b[0;32m      4\u001b[0m     x\u001b[38;5;241m=\u001b[39m\u001b[38;5;241m10\u001b[39m\u001b[38;5;241m/\u001b[39mv\n",
      "\u001b[1;31mValueError\u001b[0m: invalid literal for int() with base 10: '5.0'"
     ]
    }
   ],
   "source": [
    "print(\"Initiating Process\")\n",
    "v=int(input(\"Enter a value\"))\n",
    "try:\n",
    "    x=10/v\n",
    "except DivideByZero:\n",
    "    print(\"Divide by zero\")\n",
    "else:\n",
    "    print(x)\n",
    "finally:\n",
    "    print(\"Completed successfully\")"
   ]
  },
  {
   "cell_type": "code",
   "execution_count": 50,
   "id": "ce159627-2474-4871-89b8-a386fdc5447a",
   "metadata": {},
   "outputs": [
    {
     "name": "stdout",
     "output_type": "stream",
     "text": [
      "Initiating Process\n"
     ]
    },
    {
     "name": "stdin",
     "output_type": "stream",
     "text": [
      "Enter a value: 2\n"
     ]
    },
    {
     "name": "stdout",
     "output_type": "stream",
     "text": [
      "Result: 5.0\n",
      "Completed successfully\n"
     ]
    }
   ],
   "source": [
    "print(\"Initiating Process\")\n",
    "v=int(input(\"Enter a value:\"))\n",
    "try:\n",
    "    x=10/v\n",
    "except DivideByZero:\n",
    "    print(\"Divide by zero\")\n",
    "except ValueError:\n",
    "    print(\"ValueError\")\n",
    "else:\n",
    "    print(f'Result: {x}')\n",
    "finally:\n",
    "    print(\"Completed successfully\")"
   ]
  },
  {
   "cell_type": "code",
   "execution_count": 52,
   "id": "3a3dd0bc-8426-4842-9072-7b13454ab670",
   "metadata": {},
   "outputs": [
    {
     "name": "stdout",
     "output_type": "stream",
     "text": [
      "Initiating Process\n"
     ]
    },
    {
     "name": "stdin",
     "output_type": "stream",
     "text": [
      "Enter a value: 0\n"
     ]
    },
    {
     "name": "stdout",
     "output_type": "stream",
     "text": [
      "Completed successfully\n"
     ]
    },
    {
     "ename": "NameError",
     "evalue": "name 'DivideByZero' is not defined",
     "output_type": "error",
     "traceback": [
      "\u001b[1;31m---------------------------------------------------------------------------\u001b[0m",
      "\u001b[1;31mZeroDivisionError\u001b[0m                         Traceback (most recent call last)",
      "Cell \u001b[1;32mIn[52], line 4\u001b[0m\n\u001b[0;32m      3\u001b[0m \u001b[38;5;28;01mtry\u001b[39;00m:\n\u001b[1;32m----> 4\u001b[0m     x\u001b[38;5;241m=\u001b[39m\u001b[38;5;241m10\u001b[39m\u001b[38;5;241m/\u001b[39mv\n\u001b[0;32m      5\u001b[0m \u001b[38;5;28;01mexcept\u001b[39;00m DivideByZero:\n",
      "\u001b[1;31mZeroDivisionError\u001b[0m: division by zero",
      "\nDuring handling of the above exception, another exception occurred:\n",
      "\u001b[1;31mNameError\u001b[0m                                 Traceback (most recent call last)",
      "Cell \u001b[1;32mIn[52], line 5\u001b[0m\n\u001b[0;32m      3\u001b[0m \u001b[38;5;28;01mtry\u001b[39;00m:\n\u001b[0;32m      4\u001b[0m     x\u001b[38;5;241m=\u001b[39m\u001b[38;5;241m10\u001b[39m\u001b[38;5;241m/\u001b[39mv\n\u001b[1;32m----> 5\u001b[0m \u001b[38;5;28;01mexcept\u001b[39;00m DivideByZero:\n\u001b[0;32m      6\u001b[0m     \u001b[38;5;28mprint\u001b[39m(\u001b[38;5;124m\"\u001b[39m\u001b[38;5;124mDivide by zero\u001b[39m\u001b[38;5;124m\"\u001b[39m)\n\u001b[0;32m      7\u001b[0m \u001b[38;5;28;01mexcept\u001b[39;00m \u001b[38;5;167;01mValueError\u001b[39;00m:\n",
      "\u001b[1;31mNameError\u001b[0m: name 'DivideByZero' is not defined"
     ]
    }
   ],
   "source": [
    "print(\"Initiating Process\")\n",
    "v=int(input(\"Enter a value:\"))\n",
    "try:\n",
    "    x=10/v\n",
    "except DivideByZero:\n",
    "    print(\"Divide by zero\")\n",
    "except ValueError:\n",
    "    print(\"ValueError\")\n",
    "except Exception:\n",
    "    print(\"An Unexpected error\")\n",
    "else:\n",
    "    print(f'Result: {x}')\n",
    "finally:\n",
    "    print(\"Completed successfully\")"
   ]
  },
  {
   "cell_type": "code",
   "execution_count": 58,
   "id": "92d3d8a0-807f-4632-86bc-1b86394678f0",
   "metadata": {},
   "outputs": [
    {
     "name": "stdout",
     "output_type": "stream",
     "text": [
      "Initiating Process\n"
     ]
    },
    {
     "name": "stdin",
     "output_type": "stream",
     "text": [
      "Enter a value: 0\n"
     ]
    },
    {
     "name": "stdout",
     "output_type": "stream",
     "text": [
      "An Unexpected error\n",
      "Completed successfully\n"
     ]
    }
   ],
   "source": [
    "print(\"Initiating Process\")\n",
    "v=int(input(\"Enter a value:\"))\n",
    "try:\n",
    "    x=10/v\n",
    "except Exception:\n",
    "    print(\"An Unexpected error\")\n",
    "except DivideByZero:\n",
    "    print(\"Divide by zero\")\n",
    "except ValueError:\n",
    "    print(\"ValueError\")\n",
    "else:\n",
    "    print(f'Result: {x}')\n",
    "finally:\n",
    "    print(\"Completed successfully\")"
   ]
  },
  {
   "cell_type": "code",
   "execution_count": 80,
   "id": "ad77e066-9754-4a19-9b15-ebb2e5a84907",
   "metadata": {},
   "outputs": [
    {
     "name": "stdin",
     "output_type": "stream",
     "text": [
      " 12\n"
     ]
    },
    {
     "name": "stdout",
     "output_type": "stream",
     "text": [
      "Error\n"
     ]
    }
   ],
   "source": [
    "def checks(age):\n",
    "    if age<18:\n",
    "        raise ValueError(\"Not Eligible\")\n",
    "    else:\n",
    "        print(\"Eligible to vote\")\n",
    "age=int(input())\n",
    "try:\n",
    "    checks(age)\n",
    "except ValueError:\n",
    "    print(\"Error\")"
   ]
  },
  {
   "cell_type": "code",
   "execution_count": 96,
   "id": "b7dd3a10-f8cd-4ab5-8ba5-dd59e8daf09d",
   "metadata": {},
   "outputs": [
    {
     "name": "stdin",
     "output_type": "stream",
     "text": [
      "enter your age: 19\n"
     ]
    },
    {
     "name": "stdout",
     "output_type": "stream",
     "text": [
      "Your Eligible to vote\n"
     ]
    }
   ],
   "source": [
    "#custom exception\n",
    "class NotEligible(Exception):\n",
    "    pass\n",
    "def checks(age):\n",
    "    if age<18:\n",
    "        raise NotEligible(\"Not Eligible\")\n",
    "    else:\n",
    "        print(\"Your Eligible to vote\")\n",
    "age=int(input(\"enter your age:\"))\n",
    "try:\n",
    "    checks(age)\n",
    "except NotEligible:\n",
    "    print(\"Your n't eligible to vote\")\n"
   ]
  },
  {
   "cell_type": "code",
   "execution_count": null,
   "id": "1efbe568-207b-4f08-a9dd-4d62ca7b8909",
   "metadata": {},
   "outputs": [],
   "source": []
  }
 ],
 "metadata": {
  "kernelspec": {
   "display_name": "Python [conda env:base] *",
   "language": "python",
   "name": "conda-base-py"
  },
  "language_info": {
   "codemirror_mode": {
    "name": "ipython",
    "version": 3
   },
   "file_extension": ".py",
   "mimetype": "text/x-python",
   "name": "python",
   "nbconvert_exporter": "python",
   "pygments_lexer": "ipython3",
   "version": "3.12.7"
  }
 },
 "nbformat": 4,
 "nbformat_minor": 5
}
