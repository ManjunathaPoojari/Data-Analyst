{
 "cells": [
  {
   "cell_type": "markdown",
   "id": "a07a3ced-996d-4435-b243-6a82c0c36166",
   "metadata": {},
   "source": [
    "1) Program for all types of inheritance"
   ]
  },
  {
   "cell_type": "code",
   "execution_count": 2,
   "id": "9e47e66b-5be8-48bb-a4a2-4b1dfd57ec4a",
   "metadata": {},
   "outputs": [
    {
     "name": "stdout",
     "output_type": "stream",
     "text": [
      "---Inheritance Types---\n",
      "Animal makes sound\n",
      "Dog barks\n",
      "Puppy weeps\n",
      "Gardening, Cooking\n",
      "Painting, Singing\n",
      "Cat meows\n",
      "Class A\n",
      "Class B\n",
      "Class C\n",
      "Class D\n"
     ]
    }
   ],
   "source": [
    "# Single Inheritance\n",
    "class Animal:\n",
    "    def sound(self):\n",
    "        print(\"Animal makes sound\")\n",
    "\n",
    "class Dog(Animal):  \n",
    "    def bark(self):\n",
    "        print(\"Dog barks\")\n",
    "\n",
    "# Multilevel Inheritance\n",
    "class Puppy(Dog): \n",
    "    def weep(self):\n",
    "        print(\"Puppy weeps\")\n",
    "\n",
    "# Multiple Inheritance\n",
    "class Father:\n",
    "    def skills(self):\n",
    "        print(\"Gardening, Cooking\")\n",
    "\n",
    "class Mother:\n",
    "    def skills(self):\n",
    "        print(\"Painting, Singing\")\n",
    "\n",
    "class Child(Father, Mother): \n",
    "    def my_skills(self):\n",
    "        Father.skills(self)\n",
    "        Mother.skills(self)\n",
    "\n",
    "# Hierarchical Inheritance\n",
    "class Cat(Animal):\n",
    "    def meow(self):\n",
    "        print(\"Cat meows\")\n",
    "\n",
    "# Hybrid Inheritance (mix of multiple + multilevel)\n",
    "class A:\n",
    "    def show(self):\n",
    "        print(\"Class A\")\n",
    "\n",
    "class B(A):\n",
    "    def show_b(self):\n",
    "        print(\"Class B\")\n",
    "\n",
    "class C(A):\n",
    "    def show_c(self):\n",
    "        print(\"Class C\")\n",
    "\n",
    "class D(B, C):\n",
    "    def show_d(self):\n",
    "        print(\"Class D\")\n",
    "\n",
    "print(\"---Inheritance Types---\")\n",
    "puppy = Puppy()\n",
    "puppy.sound()\n",
    "puppy.bark()\n",
    "puppy.weep()\n",
    "\n",
    "child = Child()\n",
    "child.my_skills()\n",
    "\n",
    "cat = Cat()\n",
    "cat.meow()\n",
    "\n",
    "d = D()\n",
    "d.show()\n",
    "d.show_b()\n",
    "d.show_c()\n",
    "d.show_d()\n"
   ]
  },
  {
   "cell_type": "code",
   "execution_count": 3,
   "id": "43f859c2-bd39-43d0-a46c-ed66c8508275",
   "metadata": {},
   "outputs": [
    {
     "name": "stdout",
     "output_type": "stream",
     "text": [
      "Single Inheritance\n",
      "Dog is barking\n",
      "Animal makes some sounds\n",
      "------------------------\n",
      "Multi level Inheritance\n",
      "puppy is slepping\n",
      "Dog is barking\n",
      "Animal makes some sounds\n",
      "------------------------\n",
      "Multiple inheritance\n",
      "small nuclear family\n",
      "Showing love to all their in family\n",
      "Showing care to all their in family\n",
      "---------------------\n",
      "Hybrid Inheritance\n",
      "Class A\n",
      "Class D\n",
      "Class B\n",
      "Class C\n"
     ]
    }
   ],
   "source": [
    "print(\"Single Inheritance\")\n",
    "class Animal:\n",
    "    def sound(self):\n",
    "        print(\"Animal makes some sounds\")\n",
    "class Dog(Animal):\n",
    "    def bark(self):\n",
    "        print(\"Dog is barking\")\n",
    "obj=Dog()\n",
    "obj.bark()\n",
    "obj.sound()\n",
    "print(\"------------------------\")\n",
    "print(\"Multi level Inheritance\")\n",
    "class Child_Dog(Dog):\n",
    "    def sleep(self):\n",
    "        print(\"puppy is slepping\")\n",
    "c_obj=Child_Dog()\n",
    "c_obj.sleep()\n",
    "c_obj.bark()\n",
    "c_obj.sound()\n",
    "print(\"------------------------\")\n",
    "print(\"Multiple inheritance\")\n",
    "class mom:\n",
    "    def show(self):\n",
    "        print(\"Showing love to all their in family\")\n",
    "class dad:\n",
    "    def show1(self):\n",
    "        print(\"Showing care to all their in family\")\n",
    "class Family(mom,dad):\n",
    "    def fam(self):\n",
    "        print(\"small nuclear family\")\n",
    "f=Family()\n",
    "f.fam()\n",
    "f.show()\n",
    "f.show1()\n",
    "print(\"---------------------\")\n",
    "print(\"Hybrid Inheritance\")\n",
    "class A:\n",
    "    def show(self):\n",
    "        print(\"Class A\")\n",
    "\n",
    "class B(A):\n",
    "    def show_b(self):\n",
    "        print(\"Class B\")\n",
    "\n",
    "class C(A):\n",
    "    def show_c(self):\n",
    "        print(\"Class C\")\n",
    "\n",
    "class D(B, C):\n",
    "    def show_d(self):\n",
    "        print(\"Class D\")\n",
    "d=D()\n",
    "d.show()\n",
    "d.show_b()\n",
    "d.show_c()\n",
    "d.show_d()\n"
   ]
  },
  {
   "cell_type": "markdown",
   "id": "2a0fcc32-458a-4ab9-a581-96dba5fe8c87",
   "metadata": {},
   "source": [
    "2) Overloading and Overriding"
   ]
  },
  {
   "cell_type": "code",
   "execution_count": 16,
   "id": "38cbdc4b-71e6-4963-9fa4-79379ca0f46a",
   "metadata": {},
   "outputs": [
    {
     "name": "stdout",
     "output_type": "stream",
     "text": [
      "Method Overloading\n",
      "9\n",
      "12\n",
      "5\n",
      "Method Overridng\n",
      "it makes sounds only\n",
      "it makes sounds as bow-bow\n"
     ]
    }
   ],
   "source": [
    "print(\"Method Overloading\")\n",
    "def add(a,b=0,c=0):\n",
    "    return a+b+c\n",
    "print(add(5,4))\n",
    "print(add(5,4,3))\n",
    "print(add(5))\n",
    "print(\"Method Overridng\")\n",
    "class Animal:\n",
    "    def speak(self):\n",
    "        print(\"it makes sounds only\")\n",
    "class Dog(Animal):\n",
    "    def speak(self):\n",
    "        print(\"it makes sounds as bow-bow\")\n",
    "a=Animal()\n",
    "a.speak()\n",
    "b=Dog()\n",
    "b.speak()"
   ]
  },
  {
   "cell_type": "markdown",
   "id": "dc662afd-c16a-4ba0-ab40-b231e65ed2b4",
   "metadata": {},
   "source": [
    "3) Encapsulation all the modifiers"
   ]
  },
  {
   "cell_type": "code",
   "execution_count": 8,
   "id": "d75a79cc-3cda-4ef0-ab3e-96247c0ec33d",
   "metadata": {},
   "outputs": [
    {
     "name": "stdout",
     "output_type": "stream",
     "text": [
      "Name: Alice\n",
      "Age: 30\n",
      "Salary: 50000\n",
      "30\n",
      "50000\n",
      "60000\n"
     ]
    }
   ],
   "source": [
    "class Person:\n",
    "    def __init__(self, name, age, salary):\n",
    "        self.name = name\n",
    "        self._age = age\n",
    "        self.__salary = salary\n",
    "\n",
    "    def show(self):\n",
    "        print(\"Name:\", self.name)\n",
    "        print(\"Age:\", self._age)\n",
    "        print(\"Salary:\", self.__salary)\n",
    "\n",
    "    def get_salary(self):\n",
    "        return self.__salary\n",
    "\n",
    "    def set_salary(self, salary):\n",
    "        if salary > 0:\n",
    "            self.__salary = salary\n",
    "\n",
    "p = Person(\"Alice\", 30, 50000)\n",
    "p.show()\n",
    "print(p._age)\n",
    "print(p.get_salary())\n",
    "p.set_salary(60000)\n",
    "print(p.get_salary())"
   ]
  },
  {
   "cell_type": "code",
   "execution_count": null,
   "id": "fb40d6da-3467-43d0-bfe1-8ab6fafa9eb5",
   "metadata": {},
   "outputs": [],
   "source": []
  }
 ],
 "metadata": {
  "kernelspec": {
   "display_name": "Python [conda env:base] *",
   "language": "python",
   "name": "conda-base-py"
  },
  "language_info": {
   "codemirror_mode": {
    "name": "ipython",
    "version": 3
   },
   "file_extension": ".py",
   "mimetype": "text/x-python",
   "name": "python",
   "nbconvert_exporter": "python",
   "pygments_lexer": "ipython3",
   "version": "3.12.7"
  }
 },
 "nbformat": 4,
 "nbformat_minor": 5
}
